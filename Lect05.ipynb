{
 "cells": [
  {
   "cell_type": "markdown",
   "metadata": {},
   "source": [
    "# static vs. non-static\n",
    "\n",
    "static 함수에서는 static 함수/변수만 직접 쓸 수 있다.\n",
    "non-static이 아닌 걸 쓰려면 인스턴스를 만들어야 하기 때문.\n",
    "\n",
    "Circle이라는 도형의 클래스를 만들 때 반지름이나 둘레 등은\n",
    "각각의 인스턴스마다 다른 값을 가지므로 static으로 할 수 없다."
   ]
  },
  {
   "cell_type": "code",
   "execution_count": 66,
   "metadata": {},
   "outputs": [
    {
     "data": {
      "text/plain": [
       "com.twosigma.beaker.javash.bkr5171271d.Circle"
      ]
     },
     "execution_count": 66,
     "metadata": {},
     "output_type": "execute_result"
    }
   ],
   "source": [
    "class Circle {\n",
    "    public static final double pi = 3.14159265359;\n",
    "    \n",
    "    public /*final*/ double r; // 반지름을 인스턴스 변수\n",
    "\n",
    "    public Circle(int r) {\n",
    "        this.r = r;\n",
    "    }\n",
    "    \n",
    "    public Circle() {\n",
    "        this.r = 1;\n",
    "    }\n",
    "    \n",
    "    \n",
    "    public double 둘레() {\n",
    "        // int x; // 지역변수\n",
    "        return 2*pi*this.r;\n",
    "    }\n",
    "}"
   ]
  },
  {
   "cell_type": "code",
   "execution_count": 60,
   "metadata": {},
   "outputs": [
    {
     "data": {
      "text/plain": [
       "3.14159265359"
      ]
     },
     "execution_count": 60,
     "metadata": {},
     "output_type": "execute_result"
    }
   ],
   "source": [
    "return Circle.pi;"
   ]
  },
  {
   "cell_type": "code",
   "execution_count": 61,
   "metadata": {},
   "outputs": [
    {
     "ename": "cannot assign a value to final variable pi",
     "evalue": "cannot assign a value to final variable pi",
     "output_type": "error",
     "traceback": [
      "\u001b[1;31mcannot assign a value to final variable pi\u001b[0;0m",
      "\u001b[1;31m Circle.pi = 4\u001b[0;0m",
      "\u001b[1;31m ^        ^     \u001b[0;0m"
     ]
    }
   ],
   "source": [
    "Circle.pi = 4;"
   ]
  },
  {
   "cell_type": "code",
   "execution_count": 62,
   "metadata": {},
   "outputs": [
    {
     "ename": "non-static method 둘레() cannot be referenced from a static context",
     "evalue": "non-static method 둘레() cannot be referenced from a static context",
     "output_type": "error",
     "traceback": [
      "\u001b[1;31mnon-static method 둘레() cannot be referenced from a static context\u001b[0;0m",
      "\u001b[1;31m return Circle.둘레()\u001b[0;0m",
      "\u001b[1;31m        ^        ^   \u001b[0;0m"
     ]
    }
   ],
   "source": [
    "return Circle.둘레();"
   ]
  },
  {
   "cell_type": "code",
   "execution_count": 63,
   "metadata": {},
   "outputs": [
    {
     "data": {
      "text/plain": [
       "6.28318530718"
      ]
     },
     "execution_count": 63,
     "metadata": {},
     "output_type": "execute_result"
    }
   ],
   "source": [
    "return new Circle().둘레();"
   ]
  },
  {
   "cell_type": "code",
   "execution_count": 64,
   "metadata": {},
   "outputs": [
    {
     "data": {
      "text/plain": [
       "25.13274122872"
      ]
     },
     "execution_count": 64,
     "metadata": {},
     "output_type": "execute_result"
    }
   ],
   "source": [
    "// return new Circle().둘레();\n",
    "\n",
    "// 바뀐 생성자에 맞게 사용\n",
    "return new Circle(4).둘레();"
   ]
  },
  {
   "cell_type": "code",
   "execution_count": 65,
   "metadata": {},
   "outputs": [
    {
     "ename": "cannot assign a value to final variable r",
     "evalue": "cannot assign a value to final variable r",
     "output_type": "error",
     "traceback": [
      "\u001b[1;31mcannot assign a value to final variable r\u001b[0;0m",
      "\u001b[1;31m a.r = 5.5\u001b[0;0m",
      "\u001b[1;31m ^  ^       \u001b[0;0m"
     ]
    }
   ],
   "source": [
    "// Circle a = new Circle();\n",
    "// a.r = 5;\n",
    "Circle a = new Circle(5);\n",
    "\n",
    "System.out.println( a.둘레() );\n",
    "\n",
    "a.r = 5.5;\n",
    "\n",
    "System.out.println( a.둘레() );"
   ]
  },
  {
   "cell_type": "markdown",
   "metadata": {},
   "source": [
    "## 생성자 Constructor\n",
    "\n",
    "용도: 초기화하고 싶은 인스턴스 변수 등을 처리\n",
    "\n",
    "실행: new로 인스턴스가 만들어질 때 실행되는 특수한 메소드\n",
    "\n",
    "정의하지 않아도 자바가 기본적으로 한개 만들어준다.\n",
    "\n",
    "필요에 따라서는 여러 종류의 생성자를 정의할 수 있다. (오버로딩의 한 예)."
   ]
  },
  {
   "cell_type": "markdown",
   "metadata": {},
   "source": [
    "## 부록: 유효범위가 C++, C# 이랑은 좀 다른 점"
   ]
  },
  {
   "cell_type": "code",
   "execution_count": 67,
   "metadata": {},
   "outputs": [
    {
     "ename": "variable i is already defined in method beakerRun()",
     "evalue": "variable i is already defined in method beakerRun()",
     "output_type": "error",
     "traceback": [
      "\u001b[1;31mvariable i is already defined in method beakerRun()\u001b[0;0m",
      "\u001b[1;31m for (int i = 0\u001b[0;0m",
      "\u001b[1;31m      ^        ^ \u001b[0;0m"
     ]
    }
   ],
   "source": [
    "int i = 999;\n",
    "System.out.println(i);\n",
    "\n",
    "for (int i = 0; i<10; ++i) {\n",
    "    System.out.println(i);\n",
    "}\n",
    "System.out.println(i);"
   ]
  },
  {
   "cell_type": "code",
   "execution_count": null,
   "metadata": {},
   "outputs": [],
   "source": []
  }
 ],
 "metadata": {
  "kernelspec": {
   "display_name": "Java",
   "language": "java",
   "name": "java"
  },
  "language_info": {
   "codemirror_mode": "text/x-java",
   "file_extension": ".java",
   "mimetype": "",
   "name": "Java",
   "nbconverter_exporter": "",
   "version": "11.0.1"
  },
  "toc": {
   "base_numbering": 1,
   "nav_menu": {},
   "number_sections": false,
   "sideBar": false,
   "skip_h1_title": false,
   "title_cell": "Table of Contents",
   "title_sidebar": "Contents",
   "toc_cell": false,
   "toc_position": {},
   "toc_section_display": false,
   "toc_window_display": false
  }
 },
 "nbformat": 4,
 "nbformat_minor": 2
}
