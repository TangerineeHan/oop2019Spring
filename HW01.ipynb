{
 "cells": [
  {
   "cell_type": "markdown",
   "metadata": {},
   "source": [
    "# HW01"
   ]
  },
  {
   "cell_type": "code",
   "execution_count": 1,
   "metadata": {},
   "outputs": [
    {
     "data": {
      "text/plain": [
       "com.twosigma.beaker.javash.bkr67270da6.RGB"
      ]
     },
     "execution_count": 1,
     "metadata": {},
     "output_type": "execute_result"
    }
   ],
   "source": [
    "class RGB {\n",
    "    int r, g, b;\n",
    "    RGB() { r=0; g=0; b=0; }\n",
    "    RGB(int _r, int _g, int _b) { r=_r; g=_g; b=_b; }\n",
    "    @Override public String toString() { return \"rgb(\"+r+\",\"+g+\",\"+b+\")\"; }\n",
    "}"
   ]
  },
  {
   "cell_type": "code",
   "execution_count": 2,
   "metadata": {},
   "outputs": [
    {
     "data": {
      "text/plain": [
       "com.twosigma.beaker.javash.bkr67270da6.Point"
      ]
     },
     "execution_count": 2,
     "metadata": {},
     "output_type": "execute_result"
    }
   ],
   "source": [
    "class Point {\n",
    "    int x, y;\n",
    "    Point() { x=0; y=0; }\n",
    "    Point(int _x, int _y) { x=_x; y=_y; }\n",
    "}"
   ]
  },
  {
   "cell_type": "markdown",
   "metadata": {},
   "source": [
    "## 첫번째 설계\n",
    "* `CircObj`, `RectObj`, `RTriObj` 클래스 작성 (3점)\n",
    "* 같은 클래스의 인스턴스끼리 (`CircObj`끼리, `RectObj`끼리, `RTriObj`) 충돌 검사 테스트 사례 작성 및 각 테스트 사례를 svg 출력으로 확인 (3점)\n",
    "* 서로 다른 클래스의 (`CircObj`와 `RectObj`, `RectObj`와 `RTriObj`, `RTriObj`와 `CircObj`) 인스턴스 충돌 검사 테스트 사례 작성 및 각 테스트 사례를 svg 출력으로 확인 (3점)"
   ]
  },
  {
   "cell_type": "code",
   "execution_count": 3,
   "metadata": {},
   "outputs": [
    {
     "data": {
      "text/plain": [
       "com.twosigma.beaker.javash.bkr67270da6.ShapeObj"
      ]
     },
     "execution_count": 3,
     "metadata": {},
     "output_type": "execute_result"
    }
   ],
   "source": [
    "abstract class ShapeObj { // 어떤 추상적인 모양의 물건 클래스\n",
    "    Point p;   // 물건 위치에 대한 정보\n",
    "    RGB color; // 물건의 색깔\n",
    "    ShapeObj(Point p, RGB c) { this.p=p; color=c; }\n",
    "    abstract Point closest(Point p); // 점 p와 가장 까까운 도형에 포함된 점 (소수점 이하는 적절히 처리해 정수 좌표로)\n",
    "    abstract boolean collides(Point p); // 점 p와 충돌하는가?\n",
    "    abstract boolean collides(ShapeObj o); // o와 충돌하는가?\n",
    "    abstract String toSVG(); // svg 태그 생성\n",
    "    @Override\n",
    "    public String toString() { return toSVG(); }\n",
    "}"
   ]
  },
  {
   "cell_type": "code",
   "execution_count": 4,
   "metadata": {},
   "outputs": [
    {
     "data": {
      "text/plain": [
       "com.twosigma.beaker.javash.bkr67270da6.CircObj"
      ]
     },
     "execution_count": 4,
     "metadata": {},
     "output_type": "execute_result"
    }
   ],
   "source": [
    "class CircObj extends ShapeObj { // 원 모양 물건 클래스\n",
    "    // 원의 경우 p는 중심이다\n",
    "    int r; // 반지름\n",
    "    CircObj(int r, Point p, RGB c) {\n",
    "        super(p, c); // 부모 클래스 생성자 호출\n",
    "        this.r = r;\n",
    "    }\n",
    "    // 아래를 완성하라 (1점)\n",
    "    @Override\n",
    "    Point closest(Point p) {\n",
    "        return new Point(); // 함수를 작성하라\n",
    "    }\n",
    "    @Override\n",
    "    boolean collides(Point p) {\n",
    "        return false; // 함수를 작성하라\n",
    "    }\n",
    "    @Override\n",
    "    boolean collides(ShapeObj o) {\n",
    "        return false; // 함수를 적성하라\n",
    "    }\n",
    "    @Override\n",
    "    String toSVG() {\n",
    "        return \"<circle cx='\"+p.x+\"' cy='\"+p.y+\"' r='\"+r+\"' style='stroke:black; stroke-width:1; fill:\"+color+\"; opacity:0.33' />\";\n",
    "    }\n",
    "}"
   ]
  },
  {
   "cell_type": "code",
   "execution_count": 5,
   "metadata": {},
   "outputs": [
    {
     "name": "stdout",
     "output_type": "stream",
     "text": [
      "<circle cx='50' cy='50' r='40' style='stroke:black; stroke-width:1; fill:rgb(255,0,0); opacity:0.33' />\n",
      "<circle cx='110' cy='110' r='70' style='stroke:black; stroke-width:1; fill:rgb(0,0,255); opacity:0.33' />\n",
      "<circle cx='160' cy='160' r='40' style='stroke:black; stroke-width:1; fill:rgb(255,0,0); opacity:0.33' />\n",
      "<circle cx='220' cy='220' r='70' style='stroke:black; stroke-width:1; fill:rgb(0,0,255); opacity:0.33' />\n",
      "false\n",
      "false\n",
      "false\n",
      "false\n",
      "false\n"
     ]
    },
    {
     "data": {
      "application/vnd.jupyter.widget-view+json": {
       "model_id": "019710f7-9936-4252-8a90-b03d34dda085",
       "version_major": 2,
       "version_minor": 0
      },
      "method": "display_data"
     },
     "metadata": {},
     "output_type": "display_data"
    }
   ],
   "source": [
    "import com.twosigma.beakerx.widget.*;\n",
    "\n",
    "RGB red = new RGB(255,0,0);\n",
    "RGB blue = new RGB(0,0,255);\n",
    "\n",
    "CircObj c1 = new CircObj(40, new Point( 50, 50), red);\n",
    "CircObj c2 = new CircObj(70, new Point(110,110), blue);\n",
    "CircObj c3 = new CircObj(40, new Point(160,160), red);\n",
    "CircObj c4 = new CircObj(70, new Point(220,220), blue);\n",
    "\n",
    "System.out.println( c1.toSVG() );\n",
    "System.out.println( c2.toSVG() );\n",
    "System.out.println( c3.toSVG() );\n",
    "System.out.println( c4.toSVG() );\n",
    "\n",
    "System.out.println( c1.collides(c2) ); // 이런 결과가\n",
    "System.out.println( c2.collides(c3) ); // 이런 결과가\n",
    "System.out.println( c3.collides(c4) ); // 이런 결과가\n",
    "\n",
    "System.out.println( c1.collides(c3) ); // 요런 결과가\n",
    "System.out.println( c2.collides(c4) ); // 요런 결과가\n",
    "\n",
    "HTML widget = new HTML();\n",
    "String sgv =\n",
    "    \"<svg width='300' height='300' style='border:solid 1px'>\"\n",
    "    + c1 + c2 + c3 + c4 +\n",
    "    \"</svg>\";\n",
    "widget.setValue(\"<div>\"+sgv+\"</div>\");\n",
    "return widget; // 그림에 나타나는 것과 맞는지 시각적으로 확인해 볼 수 있도록 toSVG를 정의한 것이다"
   ]
  },
  {
   "cell_type": "code",
   "execution_count": 6,
   "metadata": {},
   "outputs": [
    {
     "ename": "ERROR",
     "evalue": " java.lang.IllegalStateException",
     "output_type": "error",
     "traceback": [
      "\u001b[0;31mERROR: java.lang.IllegalStateException: com.twosigma.beaker.javash.bkr67270da6.RectObj is not abstract and does not override abstract method toSVG() in com.twosigma.beaker.javash.bkr67270da6.ShapeObj\u001b[0;0m",
      "\u001b[0;31m class RectObj extends ShapeObj { int w; int h;  }\u001b[0;0m",
      "\u001b[0;31m ^                                                ^ \u001b[0;0m"
     ]
    }
   ],
   "source": [
    "class RectObj extends ShapeObj { // 직사각형 모양 물건 클래스\n",
    "    // 직사각형의 경우 경우 p는 왼쪽 위 꼭지점이다\n",
    "    int w; // 너비 (양수)\n",
    "    int h; // 높이 (양수)\n",
    "\n",
    "    // CircObj처럼 나머지를 완성하라 (1점)\n",
    "    \n",
    "    // RectObj(int w, int h, Point p, RGB c) { ... }\n",
    "    // ...\n",
    "    // ...\n",
    "    // ...\n",
    "}"
   ]
  },
  {
   "cell_type": "code",
   "execution_count": 7,
   "metadata": {},
   "outputs": [
    {
     "ename": "ERROR",
     "evalue": " java.lang.IllegalStateException",
     "output_type": "error",
     "traceback": [
      "\u001b[0;31mERROR: java.lang.IllegalStateException: com.twosigma.beaker.javash.bkr67270da6.RTriObj is not abstract and does not override abstract method toSVG() in com.twosigma.beaker.javash.bkr67270da6.ShapeObj\u001b[0;0m",
      "\u001b[0;31m class RTriObj extends ShapeObj { Point p; int w; int h;  }\u001b[0;0m",
      "\u001b[0;31m ^                                                         ^ \u001b[0;0m"
     ]
    }
   ],
   "source": [
    "class RTriObj extends ShapeObj { // 직각삼각형 모양 물건 클래스\n",
    "    Point p; // 직각인 꼭지점\n",
    "    int w; // 직각인 꼭지점으로부터 음수/양수로 왼쪽/오른쪽 방향으로의 w만큼 떨어진 꼭지점 나타냄\n",
    "    int h; // 직각인 꼭지점으로부터 음수/양수로 아래쪽/위쪽 방향으로의 h만큼 떨어진 꼭지점 나타냄\n",
    "    \n",
    "    // CircObj처럼 나머지를 완성하라 (1점)\n",
    "\n",
    "    // RTriObj(int w, int h, Point p, RGB c) { ... }\n",
    "    // ...\n",
    "    // ...\n",
    "    // ...\n",
    "\n",
    "}"
   ]
  },
  {
   "cell_type": "markdown",
   "metadata": {},
   "source": [
    "## 두번째 설계\n",
    "첫번째 설계와 같은 문제를 해결하지만 조금 다른 방식의 설계로 프로그램을 재작성해 보라.\n",
    "* `Circle`, `Rectangle`, `RTriangle` 클래스를 작성하라 (1점)\n",
    "* 첫번째에서 했던 같은 테스트 사례들로 모두 실행해 보라 (3점)"
   ]
  },
  {
   "cell_type": "code",
   "execution_count": 8,
   "metadata": {},
   "outputs": [
    {
     "data": {
      "text/plain": [
       "com.twosigma.beaker.javash.bkr67270da6.Shape"
      ]
     },
     "execution_count": 8,
     "metadata": {},
     "output_type": "execute_result"
    }
   ],
   "source": [
    "abstract class Shape { // 어떤 추상적인 모양 클래스\n",
    "    RGB color; // 물건의 색깔\n",
    "    Shape(RGB c) { color=c; }\n",
    "    abstract String toSVG(Point self);\n",
    "    abstract Point closest(Point self, Point p);\n",
    "    abstract boolean collides(Point self, Point p);\n",
    "    abstract boolean collides(Point self, Obj o);\n",
    "}\n",
    "\n",
    "class Obj {\n",
    "    Point p;\n",
    "    Shape s; // Shape이 Obj의 속성이다\n",
    "    Obj(Point _p, Shape _s) { p=_p; s=_s; }\n",
    "    Point closest(Point p) { return s.closest(this.p, p); } // 점 p와 가장 까까운 도형에 포함된 점 (소수점 이하는 적절히 처리해 정수 좌표로)\n",
    "    boolean collides(Point p) { return s.collides(this.p, p); } // 점 p와 충돌하는가?\n",
    "    boolean collides(Obj o) { return s.collides(this.p, o); } // o와 충돌하는가\n",
    "    @Override\n",
    "    public String toString() { return s.toSVG(this.p); }\n",
    "}"
   ]
  },
  {
   "cell_type": "code",
   "execution_count": 9,
   "metadata": {},
   "outputs": [
    {
     "data": {
      "text/plain": [
       "com.twosigma.beaker.javash.bkr67270da6.Circle"
      ]
     },
     "execution_count": 9,
     "metadata": {},
     "output_type": "execute_result"
    }
   ],
   "source": [
    "class Circle extends Shape { // 원 모양 클래스\n",
    "    int r;\n",
    "    Circle(int r, RGB c) { super(c); this.r = r; }\n",
    "    @Override\n",
    "    Point closest(Point self, Point p) {\n",
    "        return new Point(); // 함수를 작성\n",
    "    }\n",
    "    @Override\n",
    "    boolean collides(Point self, Point p) {\n",
    "        return false; // 함수를 작성하라\n",
    "    }\n",
    "    @Override\n",
    "    boolean collides(Point self, Obj o) {\n",
    "        return false; // 함수를 작성하라\n",
    "    }\n",
    "    @Override\n",
    "    String toSVG(Point self) {\n",
    "        return \"<circle cx='\"+self.x+\"' cy='\"+self.y+\"' r='\"+r+\"' style='stroke:black; stroke-width:1; fill:\"+color+\"; opacity:0.33' />\";\n",
    "    }\n",
    "}"
   ]
  },
  {
   "cell_type": "code",
   "execution_count": 10,
   "metadata": {},
   "outputs": [
    {
     "name": "stdout",
     "output_type": "stream",
     "text": [
      "<circle cx='50' cy='50' r='40' style='stroke:black; stroke-width:1; fill:rgb(255,0,0); opacity:0.33' />\n",
      "<circle cx='110' cy='110' r='70' style='stroke:black; stroke-width:1; fill:rgb(0,0,255); opacity:0.33' />\n",
      "<circle cx='160' cy='160' r='40' style='stroke:black; stroke-width:1; fill:rgb(255,0,0); opacity:0.33' />\n",
      "<circle cx='220' cy='220' r='70' style='stroke:black; stroke-width:1; fill:rgb(0,0,255); opacity:0.33' />\n",
      "false\n",
      "false\n",
      "false\n",
      "false\n",
      "false\n"
     ]
    },
    {
     "data": {
      "application/vnd.jupyter.widget-view+json": {
       "model_id": "0b7d5081-fabd-411f-9184-e6e10a1f9de1",
       "version_major": 2,
       "version_minor": 0
      },
      "method": "display_data"
     },
     "metadata": {},
     "output_type": "display_data"
    }
   ],
   "source": [
    "import com.twosigma.beakerx.widget.*;\n",
    "\n",
    "RGB red = new RGB(255,0,0);\n",
    "RGB blue = new RGB(0,0,255);\n",
    "RGB magenta = new RGB(255,0,255);\n",
    "\n",
    "Circle s1 = new Circle(40, red);\n",
    "Circle s2 = new Circle(70, blue);\n",
    "\n",
    "Obj c1 = new Obj(new Point( 50, 50), s1);\n",
    "Obj c2 = new Obj(new Point(110,110), s2);\n",
    "Obj c3 = new Obj(new Point(160,160), s1);\n",
    "Obj c4 = new Obj(new Point(220,220), s2);\n",
    "\n",
    "System.out.println( c1 );\n",
    "System.out.println( c2 );\n",
    "System.out.println( c3 );\n",
    "System.out.println( c4 );\n",
    "\n",
    "System.out.println( c1.collides(c2) ); // 이런 결과가\n",
    "System.out.println( c2.collides(c3) ); // 이런 결과가\n",
    "System.out.println( c3.collides(c4) ); // 이런 결과가\n",
    "\n",
    "System.out.println( c1.collides(c3) ); // 요런 결과가\n",
    "System.out.println( c2.collides(c4) ); // 요런 결과가\n",
    "\n",
    "HTML widget = new HTML();\n",
    "String sgv1 =\n",
    "    \"<svg width='300' height='300' style='border:solid 1px'>\"\n",
    "    + c1 + c2 + c3 + c4 +\n",
    "    \"</svg>\";\n",
    "\n",
    "// s1 = new Circle(60, magenta);\n",
    "s1.color = magenta; s1.r = 50;\n",
    "\n",
    "String sgv2 = \n",
    "    \"<svg width='300' height='300' style='border:solid 1px'>\"\n",
    "    + c1 + c2 + c3 + c4 +\n",
    "    \"</svg>\";\n",
    "widget.setValue(\"<div>\"+sgv1+\"</div>\"+\"<div>\"+sgv2+\"</div>\");\n",
    "return widget; // 그림에 나타나는 것과 맞는지 시각적으로 확인해 볼 수 있도록 toSVG를 정의한 것이다"
   ]
  },
  {
   "cell_type": "code",
   "execution_count": 11,
   "metadata": {},
   "outputs": [
    {
     "ename": "ERROR",
     "evalue": " java.lang.IllegalStateException",
     "output_type": "error",
     "traceback": [
      "\u001b[0;31mERROR: java.lang.IllegalStateException: com.twosigma.beaker.javash.bkr67270da6.Rectangle is not abstract and does not override abstract method collides(com.twosigma.beaker.javash.bkr67270da6.Point,com.twosigma.beaker.javash.bkr67270da6.Obj) in com.twosigma.beaker.javash.bkr67270da6.Shape\u001b[0;0m",
      "\u001b[0;31m class Rectangle extends Shape { int w; int h;  }\u001b[0;0m",
      "\u001b[0;31m ^                                               ^ \u001b[0;0m"
     ]
    }
   ],
   "source": [
    "class Rectangle extends Shape { // 직서각형 모양 클래스\n",
    "    int w; // 너비 (양수)\n",
    "    int h; // 높이 (양수)\n",
    "\n",
    "    // Circle처럼 나머지를 완성하라    \n",
    "}"
   ]
  },
  {
   "cell_type": "code",
   "execution_count": 12,
   "metadata": {},
   "outputs": [
    {
     "ename": "ERROR",
     "evalue": " java.lang.IllegalStateException",
     "output_type": "error",
     "traceback": [
      "\u001b[0;31mERROR: java.lang.IllegalStateException: com.twosigma.beaker.javash.bkr67270da6.RTriangle is not abstract and does not override abstract method collides(com.twosigma.beaker.javash.bkr67270da6.Point,com.twosigma.beaker.javash.bkr67270da6.Obj) in com.twosigma.beaker.javash.bkr67270da6.Shape\u001b[0;0m",
      "\u001b[0;31m class RTriangle extends Shape { int w; int h;  }\u001b[0;0m",
      "\u001b[0;31m ^                                               ^ \u001b[0;0m"
     ]
    }
   ],
   "source": [
    "class RTriangle extends Shape {\n",
    "    int w; // 직각인 꼭지점으로부터 음수/양수로 왼쪽/오른쪽 방향으로의 w만큼 떨어진 꼭지점 나타냄\n",
    "    int h; // 직각인 꼭지점으로부터 음수/양수로 아래쪽/위쪽 방향으로의 h만큼 떨어진 꼭지점 나타냄\n",
    "\n",
    "    // Circle처럼 나머지를 완성하라    \n",
    "}"
   ]
  },
  {
   "cell_type": "code",
   "execution_count": null,
   "metadata": {},
   "outputs": [],
   "source": []
  }
 ],
 "metadata": {
  "kernelspec": {
   "display_name": "Java",
   "language": "java",
   "name": "java"
  },
  "language_info": {
   "codemirror_mode": "text/x-java",
   "file_extension": ".java",
   "mimetype": "",
   "name": "Java",
   "nbconverter_exporter": "",
   "version": "11.0.3"
  },
  "toc": {
   "base_numbering": 1,
   "nav_menu": {},
   "number_sections": false,
   "sideBar": false,
   "skip_h1_title": false,
   "title_cell": "Table of Contents",
   "title_sidebar": "Contents",
   "toc_cell": false,
   "toc_position": {},
   "toc_section_display": false,
   "toc_window_display": false
  }
 },
 "nbformat": 4,
 "nbformat_minor": 2
}
